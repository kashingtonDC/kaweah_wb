{
 "cells": [
  {
   "cell_type": "code",
   "execution_count": 20,
   "id": "f540d6e8",
   "metadata": {},
   "outputs": [
    {
     "name": "stdout",
     "output_type": "stream",
     "text": [
      "----------------------------------------------------------------------\n",
      "Processing Runoff Data\n",
      "----------------------------------------------------------------------\n"
     ]
    }
   ],
   "source": [
    "import os\n",
    "import ee\n",
    "import datetime\n",
    "import time\n",
    "import sklearn\n",
    "import importlib\n",
    "\n",
    "import geopandas as gp\n",
    "import pandas as pd\n",
    "import numpy as np\n",
    "import rsfuncs as rs\n",
    "import matplotlib.pyplot as plt\n",
    "import matplotlib.gridspec as gridspec\n",
    "\n",
    "from pandas.tseries.offsets import MonthEnd\n",
    "from dateutil.relativedelta import relativedelta\n",
    "from sklearn import preprocessing\n",
    "\n",
    "from tqdm import tqdm_notebook as tqdm\n",
    "\n",
    "ee.Initialize()\n",
    "\n",
    "# Load shapefile \n",
    "shp = gp.read_file('../shape/study_area/c2vsim_sub_18.shp')\n",
    "\n",
    "# Make EE objects from shapefiles \n",
    "area = rs.gdf_to_ee_poly(shp)\n",
    "\n",
    "# Load Small watersheds shapefile, dissolve, and simplify it slightly \n",
    "sw_shp = gp.read_file('../shape/study_area/small_sheds.shp').dissolve().explode()\n",
    "sw_area = rs.gdf_to_ee_poly(sw_shp)\n",
    "\n",
    "ro_gdf = gp.GeoDataFrame(pd.concat([shp, sw_shp])).dissolve().explode()\n",
    "ro_area = rs.gdf_to_ee_poly(ro_gdf)\n",
    "\n",
    "# Load RS data dict from rsfuncs.py\n",
    "data = rs.load_data()\n",
    "\n",
    "# ECMWF\n",
    "data['ecmwf_r'] = [ee.ImageCollection(\"ECMWF/ERA5_LAND/MONTHLY\") , 'runoff', 1e5, 11132] # mm --> km \n",
    "\n",
    "\n",
    "# Set start/end\n",
    "strstart = '2020-01-01'\n",
    "strend = '2021-09-30'\n",
    "\n",
    "startdate = datetime.datetime.strptime(strstart, \"%Y-%m-%d\")\n",
    "enddate = datetime.datetime.strptime(strend, \"%Y-%m-%d\")\n",
    "\n",
    "print(\"-------\" * 10)\n",
    "print(\"Processing Runoff Data\")\n",
    "print(\"-------\" * 10)\n",
    "\n",
    "# R\n",
    "# tc_r = rs.calc_monthly_sum(data['tc_r'], startdate, enddate, ro_area)\n",
    "# ecmwf_r = rs.calc_monthly_sum(data['ecmwf_r'], startdate, enddate, ro_area)"
   ]
  },
  {
   "cell_type": "code",
   "execution_count": null,
   "id": "f9ddb407",
   "metadata": {},
   "outputs": [],
   "source": []
  },
  {
   "cell_type": "code",
   "execution_count": null,
   "id": "81e312f7",
   "metadata": {},
   "outputs": [],
   "source": []
  },
  {
   "cell_type": "code",
   "execution_count": 22,
   "id": "75bc94ac",
   "metadata": {},
   "outputs": [
    {
     "name": "stdout",
     "output_type": "stream",
     "text": [
      "----------------------------------------------------------------------\n",
      "Processing Runoff Data\n",
      "----------------------------------------------------------------------\n",
      "processing:\n"
     ]
    },
    {
     "name": "stderr",
     "output_type": "stream",
     "text": [
      "\r",
      "  0%|          | 0/21 [00:00<?, ?it/s]"
     ]
    },
    {
     "name": "stdout",
     "output_type": "stream",
     "text": [
      "IDAHO_EPSCOR/TERRACLIMATE/195801\n"
     ]
    },
    {
     "name": "stderr",
     "output_type": "stream",
     "text": [
      "100%|██████████| 21/21 [00:05<00:00,  3.55it/s]\n",
      "  0%|          | 0/21 [00:00<?, ?it/s]"
     ]
    },
    {
     "name": "stdout",
     "output_type": "stream",
     "text": [
      "processing:\n",
      "ECMWF/ERA5_LAND/MONTHLY/198101\n"
     ]
    },
    {
     "name": "stderr",
     "output_type": "stream",
     "text": [
      "100%|██████████| 21/21 [00:05<00:00,  3.96it/s]\n",
      "  0%|          | 0/21 [00:00<?, ?it/s]"
     ]
    },
    {
     "name": "stdout",
     "output_type": "stream",
     "text": [
      "processing:\n",
      "NASA/FLDAS/NOAH01/C/GL/M/V001/198201\n"
     ]
    },
    {
     "name": "stderr",
     "output_type": "stream",
     "text": [
      "100%|██████████| 21/21 [00:08<00:00,  2.37it/s]\n"
     ]
    },
    {
     "name": "stdout",
     "output_type": "stream",
     "text": [
      "processing:\n"
     ]
    },
    {
     "name": "stderr",
     "output_type": "stream",
     "text": [
      "  5%|▍         | 1/21 [00:00<00:02,  7.87it/s]"
     ]
    },
    {
     "name": "stdout",
     "output_type": "stream",
     "text": [
      "NASA/FLDAS/NOAH01/C/GL/M/V001/198201\n"
     ]
    },
    {
     "name": "stderr",
     "output_type": "stream",
     "text": [
      "100%|██████████| 21/21 [00:05<00:00,  3.70it/s]\n",
      "  0%|          | 0/21 [00:00<?, ?it/s]"
     ]
    },
    {
     "name": "stdout",
     "output_type": "stream",
     "text": [
      "processing:\n",
      "NASA/GLDAS/V021/NOAH/G025/T3H/A20000101_0300\n"
     ]
    },
    {
     "name": "stderr",
     "output_type": "stream",
     "text": [
      "100%|██████████| 21/21 [00:04<00:00,  4.71it/s]\n"
     ]
    },
    {
     "name": "stdout",
     "output_type": "stream",
     "text": [
      "processing:\n"
     ]
    },
    {
     "name": "stderr",
     "output_type": "stream",
     "text": [
      "\r",
      "  0%|          | 0/21 [00:00<?, ?it/s]"
     ]
    },
    {
     "name": "stdout",
     "output_type": "stream",
     "text": [
      "NASA/GLDAS/V021/NOAH/G025/T3H/A20000101_0300\n"
     ]
    },
    {
     "name": "stderr",
     "output_type": "stream",
     "text": [
      "100%|██████████| 21/21 [00:05<00:00,  3.64it/s]\n"
     ]
    }
   ],
   "source": [
    "print(\"-------\" * 10)\n",
    "print(\"Processing Runoff Data\")\n",
    "print(\"-------\" * 10)\n",
    "\n",
    "# R\n",
    "tc_r = rs.calc_monthly_sum(data['tc_r'], startdate, enddate, ro_area)\n",
    "tc_r.columns = ['tc_r']\n",
    "\n",
    "ecmwf_r = rs.calc_monthly_sum(data['ecmwf_r'], startdate, enddate, ro_area)\n",
    "ecmwf_r.columns = ['ecmwf_r']\n",
    "\n",
    "fldas_ssr = rs.calc_monthly_sum(data['fldas_ssr'], startdate, enddate, ro_area)\n",
    "fldas_bfr = rs.calc_monthly_sum(data['fldas_bfr'], startdate, enddate, ro_area)\n",
    "fldas_r = pd.DataFrame(pd.concat([fldas_bfr, fldas_ssr], axis = 1).sum(axis =1))\n",
    "fldas_r.columns = ['fldas_r']\n",
    "\n",
    "gldas_ssr = rs.calc_monthly_sum(data['gldas_ssr'], startdate, enddate, ro_area)\n",
    "gldas_bfr = rs.calc_monthly_sum(data['gldas_bfr'], startdate, enddate, ro_area)\n",
    "gldas_r = pd.DataFrame(pd.concat([gldas_bfr, gldas_ssr], axis = 1).sum(axis =1))\n",
    "gldas_r.columns = ['gldas_r']\n",
    "\n",
    "\n",
    "rdfs = {\"r_tc\": tc_r, \"r_gldas\": gldas_r, \"r_fldas\": fldas_r, \"r_ecmwf\": ecmwf_r}"
   ]
  },
  {
   "cell_type": "code",
   "execution_count": 26,
   "id": "308007d4",
   "metadata": {},
   "outputs": [
    {
     "data": {
      "text/html": [
       "<div>\n",
       "<style scoped>\n",
       "    .dataframe tbody tr th:only-of-type {\n",
       "        vertical-align: middle;\n",
       "    }\n",
       "\n",
       "    .dataframe tbody tr th {\n",
       "        vertical-align: top;\n",
       "    }\n",
       "\n",
       "    .dataframe thead th {\n",
       "        text-align: right;\n",
       "    }\n",
       "</style>\n",
       "<table border=\"1\" class=\"dataframe\">\n",
       "  <thead>\n",
       "    <tr style=\"text-align: right;\">\n",
       "      <th></th>\n",
       "      <th>tc_r</th>\n",
       "      <th>gldas_r</th>\n",
       "      <th>fldas_r</th>\n",
       "      <th>ecmwf_r</th>\n",
       "    </tr>\n",
       "  </thead>\n",
       "  <tbody>\n",
       "    <tr>\n",
       "      <th>2020-01-31</th>\n",
       "      <td>0.002310</td>\n",
       "      <td>0.006270</td>\n",
       "      <td>0.007636</td>\n",
       "      <td>0.010482</td>\n",
       "    </tr>\n",
       "    <tr>\n",
       "      <th>2020-02-29</th>\n",
       "      <td>0.000304</td>\n",
       "      <td>0.005099</td>\n",
       "      <td>0.000362</td>\n",
       "      <td>0.008871</td>\n",
       "    </tr>\n",
       "    <tr>\n",
       "      <th>2020-03-31</th>\n",
       "      <td>0.010821</td>\n",
       "      <td>0.007252</td>\n",
       "      <td>0.009284</td>\n",
       "      <td>0.050099</td>\n",
       "    </tr>\n",
       "    <tr>\n",
       "      <th>2020-04-30</th>\n",
       "      <td>0.014101</td>\n",
       "      <td>0.007367</td>\n",
       "      <td>0.005500</td>\n",
       "      <td>0.098688</td>\n",
       "    </tr>\n",
       "    <tr>\n",
       "      <th>2020-05-31</th>\n",
       "      <td>0.000413</td>\n",
       "      <td>0.003650</td>\n",
       "      <td>0.000540</td>\n",
       "      <td>0.036058</td>\n",
       "    </tr>\n",
       "    <tr>\n",
       "      <th>2020-06-30</th>\n",
       "      <td>0.000000</td>\n",
       "      <td>0.002800</td>\n",
       "      <td>0.000059</td>\n",
       "      <td>0.021578</td>\n",
       "    </tr>\n",
       "    <tr>\n",
       "      <th>2020-07-31</th>\n",
       "      <td>0.000000</td>\n",
       "      <td>0.002562</td>\n",
       "      <td>0.000040</td>\n",
       "      <td>0.013191</td>\n",
       "    </tr>\n",
       "    <tr>\n",
       "      <th>2020-08-31</th>\n",
       "      <td>0.000000</td>\n",
       "      <td>0.002395</td>\n",
       "      <td>0.000039</td>\n",
       "      <td>0.008463</td>\n",
       "    </tr>\n",
       "    <tr>\n",
       "      <th>2020-09-30</th>\n",
       "      <td>0.000000</td>\n",
       "      <td>0.002216</td>\n",
       "      <td>0.000065</td>\n",
       "      <td>0.005849</td>\n",
       "    </tr>\n",
       "    <tr>\n",
       "      <th>2020-10-31</th>\n",
       "      <td>0.000000</td>\n",
       "      <td>0.002216</td>\n",
       "      <td>0.000134</td>\n",
       "      <td>0.004399</td>\n",
       "    </tr>\n",
       "    <tr>\n",
       "      <th>2020-11-30</th>\n",
       "      <td>0.003760</td>\n",
       "      <td>0.003471</td>\n",
       "      <td>0.001134</td>\n",
       "      <td>0.004847</td>\n",
       "    </tr>\n",
       "    <tr>\n",
       "      <th>2020-12-31</th>\n",
       "      <td>0.005081</td>\n",
       "      <td>0.004170</td>\n",
       "      <td>0.001360</td>\n",
       "      <td>0.005732</td>\n",
       "    </tr>\n",
       "    <tr>\n",
       "      <th>2021-01-31</th>\n",
       "      <td>0.010781</td>\n",
       "      <td>0.004630</td>\n",
       "      <td>0.010884</td>\n",
       "      <td>0.030205</td>\n",
       "    </tr>\n",
       "    <tr>\n",
       "      <th>2021-02-28</th>\n",
       "      <td>0.002856</td>\n",
       "      <td>0.001969</td>\n",
       "      <td>0.001603</td>\n",
       "      <td>0.008405</td>\n",
       "    </tr>\n",
       "    <tr>\n",
       "      <th>2021-03-31</th>\n",
       "      <td>0.006856</td>\n",
       "      <td>0.002293</td>\n",
       "      <td>0.003814</td>\n",
       "      <td>0.017471</td>\n",
       "    </tr>\n",
       "    <tr>\n",
       "      <th>2021-04-30</th>\n",
       "      <td>0.001191</td>\n",
       "      <td>0.001762</td>\n",
       "      <td>0.000563</td>\n",
       "      <td>0.005219</td>\n",
       "    </tr>\n",
       "    <tr>\n",
       "      <th>2021-05-31</th>\n",
       "      <td>0.000000</td>\n",
       "      <td>0.001549</td>\n",
       "      <td>0.000089</td>\n",
       "      <td>0.003585</td>\n",
       "    </tr>\n",
       "    <tr>\n",
       "      <th>2021-06-30</th>\n",
       "      <td>0.000000</td>\n",
       "      <td>0.001448</td>\n",
       "      <td>0.000043</td>\n",
       "      <td>0.002823</td>\n",
       "    </tr>\n",
       "    <tr>\n",
       "      <th>2021-07-31</th>\n",
       "      <td>0.000000</td>\n",
       "      <td>0.001459</td>\n",
       "      <td>0.000031</td>\n",
       "      <td>0.002166</td>\n",
       "    </tr>\n",
       "    <tr>\n",
       "      <th>2021-08-31</th>\n",
       "      <td>0.000000</td>\n",
       "      <td>0.001421</td>\n",
       "      <td>0.000031</td>\n",
       "      <td>0.001645</td>\n",
       "    </tr>\n",
       "    <tr>\n",
       "      <th>2021-09-30</th>\n",
       "      <td>0.000000</td>\n",
       "      <td>0.001351</td>\n",
       "      <td>0.000045</td>\n",
       "      <td>0.001315</td>\n",
       "    </tr>\n",
       "  </tbody>\n",
       "</table>\n",
       "</div>"
      ],
      "text/plain": [
       "                tc_r   gldas_r   fldas_r   ecmwf_r\n",
       "2020-01-31  0.002310  0.006270  0.007636  0.010482\n",
       "2020-02-29  0.000304  0.005099  0.000362  0.008871\n",
       "2020-03-31  0.010821  0.007252  0.009284  0.050099\n",
       "2020-04-30  0.014101  0.007367  0.005500  0.098688\n",
       "2020-05-31  0.000413  0.003650  0.000540  0.036058\n",
       "2020-06-30  0.000000  0.002800  0.000059  0.021578\n",
       "2020-07-31  0.000000  0.002562  0.000040  0.013191\n",
       "2020-08-31  0.000000  0.002395  0.000039  0.008463\n",
       "2020-09-30  0.000000  0.002216  0.000065  0.005849\n",
       "2020-10-31  0.000000  0.002216  0.000134  0.004399\n",
       "2020-11-30  0.003760  0.003471  0.001134  0.004847\n",
       "2020-12-31  0.005081  0.004170  0.001360  0.005732\n",
       "2021-01-31  0.010781  0.004630  0.010884  0.030205\n",
       "2021-02-28  0.002856  0.001969  0.001603  0.008405\n",
       "2021-03-31  0.006856  0.002293  0.003814  0.017471\n",
       "2021-04-30  0.001191  0.001762  0.000563  0.005219\n",
       "2021-05-31  0.000000  0.001549  0.000089  0.003585\n",
       "2021-06-30  0.000000  0.001448  0.000043  0.002823\n",
       "2021-07-31  0.000000  0.001459  0.000031  0.002166\n",
       "2021-08-31  0.000000  0.001421  0.000031  0.001645\n",
       "2021-09-30  0.000000  0.001351  0.000045  0.001315"
      ]
     },
     "execution_count": 26,
     "metadata": {},
     "output_type": "execute_result"
    }
   ],
   "source": [
    "outdir = \"../data/wb_variables\"\n",
    "\n",
    "if not os.path.exists(outdir):\n",
    "    os.mkdir(outdir)\n",
    "\n",
    "r_outfn = os.path.join(outdir,\"runoff.csv\")\n",
    "pd.concat(list(rdfs.values()), axis = 1).to_csv(r_outfn)\n"
   ]
  },
  {
   "cell_type": "code",
   "execution_count": 15,
   "id": "78f16504",
   "metadata": {},
   "outputs": [
    {
     "ename": "ValueError",
     "evalue": "If using all scalar values, you must pass an index",
     "output_type": "error",
     "traceback": [
      "\u001b[0;31m---------------------------------------------------------------------------\u001b[0m",
      "\u001b[0;31mValueError\u001b[0m                                Traceback (most recent call last)",
      "\u001b[0;32m<ipython-input-15-50d466cec5ed>\u001b[0m in \u001b[0;36m<module>\u001b[0;34m\u001b[0m\n\u001b[0;32m----> 1\u001b[0;31m \u001b[0mpd\u001b[0m\u001b[0;34m.\u001b[0m\u001b[0mDataFrame\u001b[0m\u001b[0;34m(\u001b[0m\u001b[0mrdfs\u001b[0m\u001b[0;34m)\u001b[0m\u001b[0;34m\u001b[0m\u001b[0;34m\u001b[0m\u001b[0m\n\u001b[0m",
      "\u001b[0;32m~/anaconda3/envs/rsenv/lib/python3.8/site-packages/pandas/core/frame.py\u001b[0m in \u001b[0;36m__init__\u001b[0;34m(self, data, index, columns, dtype, copy)\u001b[0m\n\u001b[1;32m    527\u001b[0m \u001b[0;34m\u001b[0m\u001b[0m\n\u001b[1;32m    528\u001b[0m         \u001b[0;32melif\u001b[0m \u001b[0misinstance\u001b[0m\u001b[0;34m(\u001b[0m\u001b[0mdata\u001b[0m\u001b[0;34m,\u001b[0m \u001b[0mdict\u001b[0m\u001b[0;34m)\u001b[0m\u001b[0;34m:\u001b[0m\u001b[0;34m\u001b[0m\u001b[0;34m\u001b[0m\u001b[0m\n\u001b[0;32m--> 529\u001b[0;31m             \u001b[0mmgr\u001b[0m \u001b[0;34m=\u001b[0m \u001b[0minit_dict\u001b[0m\u001b[0;34m(\u001b[0m\u001b[0mdata\u001b[0m\u001b[0;34m,\u001b[0m \u001b[0mindex\u001b[0m\u001b[0;34m,\u001b[0m \u001b[0mcolumns\u001b[0m\u001b[0;34m,\u001b[0m \u001b[0mdtype\u001b[0m\u001b[0;34m=\u001b[0m\u001b[0mdtype\u001b[0m\u001b[0;34m)\u001b[0m\u001b[0;34m\u001b[0m\u001b[0;34m\u001b[0m\u001b[0m\n\u001b[0m\u001b[1;32m    530\u001b[0m         \u001b[0;32melif\u001b[0m \u001b[0misinstance\u001b[0m\u001b[0;34m(\u001b[0m\u001b[0mdata\u001b[0m\u001b[0;34m,\u001b[0m \u001b[0mma\u001b[0m\u001b[0;34m.\u001b[0m\u001b[0mMaskedArray\u001b[0m\u001b[0;34m)\u001b[0m\u001b[0;34m:\u001b[0m\u001b[0;34m\u001b[0m\u001b[0;34m\u001b[0m\u001b[0m\n\u001b[1;32m    531\u001b[0m             \u001b[0;32mimport\u001b[0m \u001b[0mnumpy\u001b[0m\u001b[0;34m.\u001b[0m\u001b[0mma\u001b[0m\u001b[0;34m.\u001b[0m\u001b[0mmrecords\u001b[0m \u001b[0;32mas\u001b[0m \u001b[0mmrecords\u001b[0m\u001b[0;34m\u001b[0m\u001b[0;34m\u001b[0m\u001b[0m\n",
      "\u001b[0;32m~/anaconda3/envs/rsenv/lib/python3.8/site-packages/pandas/core/internals/construction.py\u001b[0m in \u001b[0;36minit_dict\u001b[0;34m(data, index, columns, dtype)\u001b[0m\n\u001b[1;32m    285\u001b[0m             \u001b[0marr\u001b[0m \u001b[0;32mif\u001b[0m \u001b[0;32mnot\u001b[0m \u001b[0mis_datetime64tz_dtype\u001b[0m\u001b[0;34m(\u001b[0m\u001b[0marr\u001b[0m\u001b[0;34m)\u001b[0m \u001b[0;32melse\u001b[0m \u001b[0marr\u001b[0m\u001b[0;34m.\u001b[0m\u001b[0mcopy\u001b[0m\u001b[0;34m(\u001b[0m\u001b[0;34m)\u001b[0m \u001b[0;32mfor\u001b[0m \u001b[0marr\u001b[0m \u001b[0;32min\u001b[0m \u001b[0marrays\u001b[0m\u001b[0;34m\u001b[0m\u001b[0;34m\u001b[0m\u001b[0m\n\u001b[1;32m    286\u001b[0m         ]\n\u001b[0;32m--> 287\u001b[0;31m     \u001b[0;32mreturn\u001b[0m \u001b[0marrays_to_mgr\u001b[0m\u001b[0;34m(\u001b[0m\u001b[0marrays\u001b[0m\u001b[0;34m,\u001b[0m \u001b[0mdata_names\u001b[0m\u001b[0;34m,\u001b[0m \u001b[0mindex\u001b[0m\u001b[0;34m,\u001b[0m \u001b[0mcolumns\u001b[0m\u001b[0;34m,\u001b[0m \u001b[0mdtype\u001b[0m\u001b[0;34m=\u001b[0m\u001b[0mdtype\u001b[0m\u001b[0;34m)\u001b[0m\u001b[0;34m\u001b[0m\u001b[0;34m\u001b[0m\u001b[0m\n\u001b[0m\u001b[1;32m    288\u001b[0m \u001b[0;34m\u001b[0m\u001b[0m\n\u001b[1;32m    289\u001b[0m \u001b[0;34m\u001b[0m\u001b[0m\n",
      "\u001b[0;32m~/anaconda3/envs/rsenv/lib/python3.8/site-packages/pandas/core/internals/construction.py\u001b[0m in \u001b[0;36marrays_to_mgr\u001b[0;34m(arrays, arr_names, index, columns, dtype, verify_integrity)\u001b[0m\n\u001b[1;32m     78\u001b[0m         \u001b[0;31m# figure out the index, if necessary\u001b[0m\u001b[0;34m\u001b[0m\u001b[0;34m\u001b[0m\u001b[0;34m\u001b[0m\u001b[0m\n\u001b[1;32m     79\u001b[0m         \u001b[0;32mif\u001b[0m \u001b[0mindex\u001b[0m \u001b[0;32mis\u001b[0m \u001b[0;32mNone\u001b[0m\u001b[0;34m:\u001b[0m\u001b[0;34m\u001b[0m\u001b[0;34m\u001b[0m\u001b[0m\n\u001b[0;32m---> 80\u001b[0;31m             \u001b[0mindex\u001b[0m \u001b[0;34m=\u001b[0m \u001b[0mextract_index\u001b[0m\u001b[0;34m(\u001b[0m\u001b[0marrays\u001b[0m\u001b[0;34m)\u001b[0m\u001b[0;34m\u001b[0m\u001b[0;34m\u001b[0m\u001b[0m\n\u001b[0m\u001b[1;32m     81\u001b[0m         \u001b[0;32melse\u001b[0m\u001b[0;34m:\u001b[0m\u001b[0;34m\u001b[0m\u001b[0;34m\u001b[0m\u001b[0m\n\u001b[1;32m     82\u001b[0m             \u001b[0mindex\u001b[0m \u001b[0;34m=\u001b[0m \u001b[0mensure_index\u001b[0m\u001b[0;34m(\u001b[0m\u001b[0mindex\u001b[0m\u001b[0;34m)\u001b[0m\u001b[0;34m\u001b[0m\u001b[0;34m\u001b[0m\u001b[0m\n",
      "\u001b[0;32m~/anaconda3/envs/rsenv/lib/python3.8/site-packages/pandas/core/internals/construction.py\u001b[0m in \u001b[0;36mextract_index\u001b[0;34m(data)\u001b[0m\n\u001b[1;32m    389\u001b[0m \u001b[0;34m\u001b[0m\u001b[0m\n\u001b[1;32m    390\u001b[0m         \u001b[0;32mif\u001b[0m \u001b[0;32mnot\u001b[0m \u001b[0mindexes\u001b[0m \u001b[0;32mand\u001b[0m \u001b[0;32mnot\u001b[0m \u001b[0mraw_lengths\u001b[0m\u001b[0;34m:\u001b[0m\u001b[0;34m\u001b[0m\u001b[0;34m\u001b[0m\u001b[0m\n\u001b[0;32m--> 391\u001b[0;31m             \u001b[0;32mraise\u001b[0m \u001b[0mValueError\u001b[0m\u001b[0;34m(\u001b[0m\u001b[0;34m\"If using all scalar values, you must pass an index\"\u001b[0m\u001b[0;34m)\u001b[0m\u001b[0;34m\u001b[0m\u001b[0;34m\u001b[0m\u001b[0m\n\u001b[0m\u001b[1;32m    392\u001b[0m \u001b[0;34m\u001b[0m\u001b[0m\n\u001b[1;32m    393\u001b[0m         \u001b[0;32mif\u001b[0m \u001b[0mhave_series\u001b[0m\u001b[0;34m:\u001b[0m\u001b[0;34m\u001b[0m\u001b[0;34m\u001b[0m\u001b[0m\n",
      "\u001b[0;31mValueError\u001b[0m: If using all scalar values, you must pass an index"
     ]
    }
   ],
   "source": [
    "pd.DataFrame(rdfs)"
   ]
  },
  {
   "cell_type": "code",
   "execution_count": null,
   "id": "ca2aaac4",
   "metadata": {},
   "outputs": [
    {
     "name": "stderr",
     "output_type": "stream",
     "text": [
      "\r",
      "  0%|          | 0/249 [00:00<?, ?it/s]"
     ]
    },
    {
     "name": "stdout",
     "output_type": "stream",
     "text": [
      "processing:\n",
      "NASA/GLDAS/V021/NOAH/G025/T3H/A20000101_0300\n"
     ]
    },
    {
     "name": "stderr",
     "output_type": "stream",
     "text": [
      "100%|██████████| 249/249 [00:54<00:00,  4.59it/s]\n",
      "  0%|          | 0/249 [00:00<?, ?it/s]"
     ]
    },
    {
     "name": "stdout",
     "output_type": "stream",
     "text": [
      "processing:\n",
      "NASA/GLDAS/V021/NOAH/G025/T3H/A20000101_0300\n"
     ]
    },
    {
     "name": "stderr",
     "output_type": "stream",
     "text": [
      " 60%|██████    | 150/249 [00:33<00:20,  4.81it/s]"
     ]
    }
   ],
   "source": [
    "gl_bfr = rs.calc_monthly_sum(data['gldas_bfr'], startdate, enddate, ro_area)\n",
    "gl_ssr = rs.calc_monthly_sum(data['gldas_ssr'], startdate, enddate, ro_area)\n"
   ]
  },
  {
   "cell_type": "code",
   "execution_count": null,
   "id": "6c11bd06",
   "metadata": {},
   "outputs": [],
   "source": [
    "gl_bfr.plot()\n",
    "gl_ssr.plot()"
   ]
  },
  {
   "cell_type": "code",
   "execution_count": null,
   "id": "3d941803",
   "metadata": {},
   "outputs": [],
   "source": []
  }
 ],
 "metadata": {
  "kernelspec": {
   "display_name": "Python 3",
   "language": "python",
   "name": "python3"
  },
  "language_info": {
   "codemirror_mode": {
    "name": "ipython",
    "version": 3
   },
   "file_extension": ".py",
   "mimetype": "text/x-python",
   "name": "python",
   "nbconvert_exporter": "python",
   "pygments_lexer": "ipython3",
   "version": "3.8.10"
  }
 },
 "nbformat": 4,
 "nbformat_minor": 5
}
