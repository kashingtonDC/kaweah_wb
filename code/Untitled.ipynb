{
 "cells": [
  {
   "cell_type": "code",
   "execution_count": 20,
   "id": "f540d6e8",
   "metadata": {},
   "outputs": [
    {
     "name": "stdout",
     "output_type": "stream",
     "text": [
      "----------------------------------------------------------------------\n",
      "Processing Runoff Data\n",
      "----------------------------------------------------------------------\n"
     ]
    }
   ],
   "source": [
    "import os\n",
    "import ee\n",
    "import datetime\n",
    "import time\n",
    "import sklearn\n",
    "import importlib\n",
    "\n",
    "import geopandas as gp\n",
    "import pandas as pd\n",
    "import numpy as np\n",
    "import rsfuncs as rs\n",
    "import matplotlib.pyplot as plt\n",
    "import matplotlib.gridspec as gridspec\n",
    "\n",
    "from pandas.tseries.offsets import MonthEnd\n",
    "from dateutil.relativedelta import relativedelta\n",
    "from sklearn import preprocessing\n",
    "\n",
    "from tqdm import tqdm_notebook as tqdm\n",
    "\n",
    "ee.Initialize()\n",
    "\n",
    "# Load shapefile \n",
    "shp = gp.read_file('../shape/study_area/c2vsim_sub_18.shp')\n",
    "\n",
    "# Make EE objects from shapefiles \n",
    "area = rs.gdf_to_ee_poly(shp)\n",
    "\n",
    "# Load Small watersheds shapefile, dissolve, and simplify it slightly \n",
    "sw_shp = gp.read_file('../shape/study_area/small_sheds.shp').dissolve().explode()\n",
    "sw_area = rs.gdf_to_ee_poly(sw_shp)\n",
    "\n",
    "ro_gdf = gp.GeoDataFrame(pd.concat([shp, sw_shp])).dissolve().explode()\n",
    "ro_area = rs.gdf_to_ee_poly(ro_gdf)\n",
    "\n",
    "# Load RS data dict from rsfuncs.py\n",
    "data = rs.load_data()\n",
    "\n",
    "# ECMWF\n",
    "data['ecmwf_r'] = [ee.ImageCollection(\"ECMWF/ERA5_LAND/MONTHLY\") , 'runoff', 1e5, 11132] # mm --> km \n",
    "\n",
    "\n",
    "# Set start/end\n",
    "strstart = '2001-09-01'\n",
    "strend = '2021-09-30'\n",
    "\n",
    "startdate = datetime.datetime.strptime(strstart, \"%Y-%m-%d\")\n",
    "enddate = datetime.datetime.strptime(strend, \"%Y-%m-%d\")\n",
    "\n",
    "print(\"-------\" * 10)\n",
    "print(\"Processing Runoff Data\")\n",
    "print(\"-------\" * 10)\n",
    "\n",
    "# R\n",
    "# tc_r = rs.calc_monthly_sum(data['tc_r'], startdate, enddate, ro_area)\n",
    "# ecmwf_r = rs.calc_monthly_sum(data['ecmwf_r'], startdate, enddate, ro_area)"
   ]
  },
  {
   "cell_type": "code",
   "execution_count": null,
   "id": "538f74b5",
   "metadata": {},
   "outputs": [],
   "source": [
    "outdir = \"../data/wb_variables\"\n",
    "\n",
    "if not os.path.exists(outdir):\n",
    "    os.mkdir(outdir)\n",
    "\n",
    "    "
   ]
  },
  {
   "cell_type": "code",
   "execution_count": null,
   "id": "ad0eaff7",
   "metadata": {},
   "outputs": [],
   "source": []
  },
  {
   "cell_type": "code",
   "execution_count": 22,
   "id": "75bc94ac",
   "metadata": {},
   "outputs": [
    {
     "name": "stdout",
     "output_type": "stream",
     "text": [
      "----------------------------------------------------------------------\n",
      "Processing Runoff Data\n",
      "----------------------------------------------------------------------\n",
      "processing:\n"
     ]
    },
    {
     "name": "stderr",
     "output_type": "stream",
     "text": [
      "\r",
      "  0%|          | 0/21 [00:00<?, ?it/s]"
     ]
    },
    {
     "name": "stdout",
     "output_type": "stream",
     "text": [
      "IDAHO_EPSCOR/TERRACLIMATE/195801\n"
     ]
    },
    {
     "name": "stderr",
     "output_type": "stream",
     "text": [
      "100%|██████████| 21/21 [00:05<00:00,  3.55it/s]\n",
      "  0%|          | 0/21 [00:00<?, ?it/s]"
     ]
    },
    {
     "name": "stdout",
     "output_type": "stream",
     "text": [
      "processing:\n",
      "ECMWF/ERA5_LAND/MONTHLY/198101\n"
     ]
    },
    {
     "name": "stderr",
     "output_type": "stream",
     "text": [
      "100%|██████████| 21/21 [00:05<00:00,  3.96it/s]\n",
      "  0%|          | 0/21 [00:00<?, ?it/s]"
     ]
    },
    {
     "name": "stdout",
     "output_type": "stream",
     "text": [
      "processing:\n",
      "NASA/FLDAS/NOAH01/C/GL/M/V001/198201\n"
     ]
    },
    {
     "name": "stderr",
     "output_type": "stream",
     "text": [
      "100%|██████████| 21/21 [00:08<00:00,  2.37it/s]\n"
     ]
    },
    {
     "name": "stdout",
     "output_type": "stream",
     "text": [
      "processing:\n"
     ]
    },
    {
     "name": "stderr",
     "output_type": "stream",
     "text": [
      "  5%|▍         | 1/21 [00:00<00:02,  7.87it/s]"
     ]
    },
    {
     "name": "stdout",
     "output_type": "stream",
     "text": [
      "NASA/FLDAS/NOAH01/C/GL/M/V001/198201\n"
     ]
    },
    {
     "name": "stderr",
     "output_type": "stream",
     "text": [
      "100%|██████████| 21/21 [00:05<00:00,  3.70it/s]\n",
      "  0%|          | 0/21 [00:00<?, ?it/s]"
     ]
    },
    {
     "name": "stdout",
     "output_type": "stream",
     "text": [
      "processing:\n",
      "NASA/GLDAS/V021/NOAH/G025/T3H/A20000101_0300\n"
     ]
    },
    {
     "name": "stderr",
     "output_type": "stream",
     "text": [
      "100%|██████████| 21/21 [00:04<00:00,  4.71it/s]\n"
     ]
    },
    {
     "name": "stdout",
     "output_type": "stream",
     "text": [
      "processing:\n"
     ]
    },
    {
     "name": "stderr",
     "output_type": "stream",
     "text": [
      "\r",
      "  0%|          | 0/21 [00:00<?, ?it/s]"
     ]
    },
    {
     "name": "stdout",
     "output_type": "stream",
     "text": [
      "NASA/GLDAS/V021/NOAH/G025/T3H/A20000101_0300\n"
     ]
    },
    {
     "name": "stderr",
     "output_type": "stream",
     "text": [
      "100%|██████████| 21/21 [00:05<00:00,  3.64it/s]\n"
     ]
    }
   ],
   "source": [
    "print(\"-------\" * 10)\n",
    "print(\"Processing Runoff Data\")\n",
    "print(\"-------\" * 10)\n",
    "\n",
    "# R\n",
    "tc_r = rs.calc_monthly_sum(data['tc_r'], startdate, enddate, ro_area)\n",
    "tc_r.columns = ['tc_r']\n",
    "\n",
    "ecmwf_r = rs.calc_monthly_sum(data['ecmwf_r'], startdate, enddate, ro_area)\n",
    "ecmwf_r.columns = ['ecmwf_r']\n",
    "\n",
    "fldas_ssr = rs.calc_monthly_sum(data['fldas_ssr'], startdate, enddate, ro_area)\n",
    "fldas_bfr = rs.calc_monthly_sum(data['fldas_bfr'], startdate, enddate, ro_area)\n",
    "fldas_r = pd.DataFrame(pd.concat([fldas_bfr, fldas_ssr], axis = 1).sum(axis =1))\n",
    "fldas_r.columns = ['fldas_r']\n",
    "\n",
    "gldas_ssr = rs.calc_monthly_sum(data['gldas_ssr'], startdate, enddate, ro_area)\n",
    "gldas_bfr = rs.calc_monthly_sum(data['gldas_bfr'], startdate, enddate, ro_area)\n",
    "gldas_r = pd.DataFrame(pd.concat([gldas_bfr, gldas_ssr], axis = 1).sum(axis =1))\n",
    "gldas_r.columns = ['gldas_r']\n",
    "\n",
    "\n",
    "rdfs = {\"r_tc\": tc_r, \"r_gldas\": gldas_r, \"r_fldas\": fldas_r, \"r_ecmwf\": ecmwf_r}"
   ]
  },
  {
   "cell_type": "code",
   "execution_count": 29,
   "id": "266be86f",
   "metadata": {},
   "outputs": [],
   "source": [
    "\n",
    "r_outfn = os.path.join(outdir,\"runoff.csv\")\n",
    "r_df_out = pd.concat(list(rdfs.values()), axis = 1)\n",
    "r_df_out.to_csv(r_outfn)\n"
   ]
  },
  {
   "cell_type": "code",
   "execution_count": 32,
   "id": "78f16504",
   "metadata": {},
   "outputs": [
    {
     "data": {
      "text/plain": [
       "<AxesSubplot:>"
      ]
     },
     "execution_count": 32,
     "metadata": {},
     "output_type": "execute_result"
    },
    {
     "data": {
      "image/png": "[encoded data removed]",
      "text/plain": [
       "<Figure size 432x288 with 1 Axes>"
      ]
     },
     "metadata": {
      "needs_background": "light"
     },
     "output_type": "display_data"
    }
   ],
   "source": [
    "r_df_out.plot()"
   ]
  },
  {
   "cell_type": "code",
   "execution_count": null,
   "id": "ca2aaac4",
   "metadata": {},
   "outputs": [
    {
     "name": "stderr",
     "output_type": "stream",
     "text": [
      "\r",
      "  0%|          | 0/249 [00:00<?, ?it/s]"
     ]
    },
    {
     "name": "stdout",
     "output_type": "stream",
     "text": [
      "processing:\n",
      "NASA/GLDAS/V021/NOAH/G025/T3H/A20000101_0300\n"
     ]
    },
    {
     "name": "stderr",
     "output_type": "stream",
     "text": [
      "100%|██████████| 249/249 [00:54<00:00,  4.59it/s]\n",
      "  0%|          | 0/249 [00:00<?, ?it/s]"
     ]
    },
    {
     "name": "stdout",
     "output_type": "stream",
     "text": [
      "processing:\n",
      "NASA/GLDAS/V021/NOAH/G025/T3H/A20000101_0300\n"
     ]
    },
    {
     "name": "stderr",
     "output_type": "stream",
     "text": [
      " 60%|██████    | 150/249 [00:33<00:20,  4.81it/s]"
     ]
    }
   ],
   "source": [
    "gl_bfr = rs.calc_monthly_sum(data['gldas_bfr'], startdate, enddate, ro_area)\n",
    "gl_ssr = rs.calc_monthly_sum(data['gldas_ssr'], startdate, enddate, ro_area)\n"
   ]
  },
  {
   "cell_type": "code",
   "execution_count": null,
   "id": "6c11bd06",
   "metadata": {},
   "outputs": [],
   "source": [
    "gl_bfr.plot()\n",
    "gl_ssr.plot()"
   ]
  },
  {
   "cell_type": "code",
   "execution_count": null,
   "id": "3d941803",
   "metadata": {},
   "outputs": [],
   "source": []
  }
 ],
 "metadata": {
  "kernelspec": {
   "display_name": "Python 3",
   "language": "python",
   "name": "python3"
  },
  "language_info": {
   "codemirror_mode": {
    "name": "ipython",
    "version": 3
   },
   "file_extension": ".py",
   "mimetype": "text/x-python",
   "name": "python",
   "nbconvert_exporter": "python",
   "pygments_lexer": "ipython3",
   "version": "3.8.10"
  }
 },
 "nbformat": 4,
 "nbformat_minor": 5
}
